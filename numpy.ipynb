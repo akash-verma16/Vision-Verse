{
  "nbformat": 4,
  "nbformat_minor": 0,
  "metadata": {
    "colab": {
      "provenance": [],
      "gpuType": "T4"
    },
    "kernelspec": {
      "name": "python3",
      "display_name": "Python 3"
    },
    "language_info": {
      "name": "python"
    },
    "accelerator": "GPU"
  },
  "cells": [
    {
      "cell_type": "markdown",
      "source": [
        "Save a copy in Drive of the given notebook and make changes.\n",
        "\n",
        "Output for each of the questions is provided below each question. You need to produce the same output."
      ],
      "metadata": {
        "id": "DRMwEtL9TMHl"
      }
    },
    {
      "cell_type": "code",
      "source": [
        "import numpy as np"
      ],
      "metadata": {
        "id": "VeuI0DyQTq50"
      },
      "execution_count": null,
      "outputs": []
    },
    {
      "cell_type": "markdown",
      "source": [
        " 1. Create a 4x6 matrix filled with all zeros."
      ],
      "metadata": {
        "id": "vzpMMu5tlLQl"
      }
    },
    {
      "cell_type": "code",
      "source": [
        "np.zeros((4,6))"
      ],
      "metadata": {
        "colab": {
          "base_uri": "https://localhost:8080/"
        },
        "id": "n6yPmDGNl5yz",
        "outputId": "75eee909-e3d0-4081-dff9-e529388e1991"
      },
      "execution_count": null,
      "outputs": [
        {
          "output_type": "execute_result",
          "data": {
            "text/plain": [
              "array([[0., 0., 0., 0., 0., 0.],\n",
              "       [0., 0., 0., 0., 0., 0.],\n",
              "       [0., 0., 0., 0., 0., 0.],\n",
              "       [0., 0., 0., 0., 0., 0.]])"
            ]
          },
          "metadata": {},
          "execution_count": 2
        }
      ]
    },
    {
      "cell_type": "markdown",
      "source": [
        "2. Create a 5x5 matrix filled with all ones."
      ],
      "metadata": {
        "id": "h2FIk_vNmvRa"
      }
    },
    {
      "cell_type": "code",
      "source": [
        "a = np.ones((5,5))\n",
        "print(a)"
      ],
      "metadata": {
        "id": "brCfmuw0m-yW",
        "colab": {
          "base_uri": "https://localhost:8080/"
        },
        "outputId": "83463bb9-db57-426e-bbbd-047dd841575d"
      },
      "execution_count": null,
      "outputs": [
        {
          "output_type": "stream",
          "name": "stdout",
          "text": [
            "[[1. 1. 1. 1. 1.]\n",
            " [1. 1. 1. 1. 1.]\n",
            " [1. 1. 1. 1. 1.]\n",
            " [1. 1. 1. 1. 1.]\n",
            " [1. 1. 1. 1. 1.]]\n"
          ]
        }
      ]
    },
    {
      "cell_type": "markdown",
      "source": [
        "3.Create a matrix of (4,5) filled with 4."
      ],
      "metadata": {
        "id": "QI3JcIBRQgdV"
      }
    },
    {
      "cell_type": "code",
      "source": [
        "a= np.ones((4,5))\n",
        "a[:,:] = 4\n",
        "print(a)"
      ],
      "metadata": {
        "id": "yNZmcJQYQnTq",
        "colab": {
          "base_uri": "https://localhost:8080/"
        },
        "outputId": "786a17f4-61ca-4762-a7d0-b1e88fecd4ca"
      },
      "execution_count": null,
      "outputs": [
        {
          "output_type": "stream",
          "name": "stdout",
          "text": [
            "[[4. 4. 4. 4. 4.]\n",
            " [4. 4. 4. 4. 4.]\n",
            " [4. 4. 4. 4. 4.]\n",
            " [4. 4. 4. 4. 4.]]\n"
          ]
        }
      ]
    },
    {
      "cell_type": "markdown",
      "source": [
        "For questions 4-13, consider the matrix\n",
        "\n",
        "a=[[1,2,3],[1,4,5],[8,4,2]]\n",
        "\n",
        "\n",
        "4. Write a code to get print the shape of the given matrix.\n",
        "\n",
        "\n"
      ],
      "metadata": {
        "id": "9EPUHqRWxUGG"
      }
    },
    {
      "cell_type": "code",
      "source": [
        "a = np.array([[1,2,3],[1,4,5],[8,4,2]])\n",
        "print(a.shape)"
      ],
      "metadata": {
        "colab": {
          "base_uri": "https://localhost:8080/"
        },
        "id": "wvDHpmw8xUf0",
        "outputId": "1f1a9245-fd52-4e14-cb03-37de849797f2"
      },
      "execution_count": null,
      "outputs": [
        {
          "output_type": "stream",
          "name": "stdout",
          "text": [
            "(3, 3)\n"
          ]
        }
      ]
    },
    {
      "cell_type": "markdown",
      "source": [
        "5.Write the code to print number of elements in a."
      ],
      "metadata": {
        "id": "8RZy077YyOCP"
      }
    },
    {
      "cell_type": "code",
      "source": [
        "print(int(a.nbytes/a.itemsize))"
      ],
      "metadata": {
        "id": "52TT7eTmyOec",
        "colab": {
          "base_uri": "https://localhost:8080/"
        },
        "outputId": "55abb21e-251c-4693-b8cc-91781eecaa04"
      },
      "execution_count": null,
      "outputs": [
        {
          "output_type": "stream",
          "name": "stdout",
          "text": [
            "9\n"
          ]
        }
      ]
    },
    {
      "cell_type": "markdown",
      "source": [
        "6. Print the 2nd row,1st column and element at (1,2) of a."
      ],
      "metadata": {
        "id": "luN65JwsywXF"
      }
    },
    {
      "cell_type": "code",
      "source": [
        "print(a[1,0])\n",
        "print(a[1,2])"
      ],
      "metadata": {
        "id": "3vaGSKkvywqE",
        "colab": {
          "base_uri": "https://localhost:8080/"
        },
        "outputId": "978a1adc-f1c0-4c97-f49a-847461492597"
      },
      "execution_count": null,
      "outputs": [
        {
          "output_type": "stream",
          "name": "stdout",
          "text": [
            "1\n",
            "5\n"
          ]
        }
      ]
    },
    {
      "cell_type": "markdown",
      "source": [
        "7. Change the element at (2,1) to 5."
      ],
      "metadata": {
        "id": "Tl8iW0SB0SAz"
      }
    },
    {
      "cell_type": "code",
      "source": [
        "a[2,1] = 5\n",
        "print(a)"
      ],
      "metadata": {
        "id": "X-J4EVFy0SX9",
        "colab": {
          "base_uri": "https://localhost:8080/"
        },
        "outputId": "b76b753d-418e-40cf-c491-4c1e1920957d"
      },
      "execution_count": null,
      "outputs": [
        {
          "output_type": "stream",
          "name": "stdout",
          "text": [
            "[[1 2 3]\n",
            " [1 4 5]\n",
            " [8 5 2]]\n"
          ]
        }
      ]
    },
    {
      "cell_type": "markdown",
      "source": [
        "8. Print the first and the last element of the first row using stepsize approach."
      ],
      "metadata": {
        "id": "_ZEJ3V01OCPv"
      }
    },
    {
      "cell_type": "code",
      "source": [
        "print(a[0][0::2])"
      ],
      "metadata": {
        "id": "Ls6bN0l8OCfI",
        "colab": {
          "base_uri": "https://localhost:8080/"
        },
        "outputId": "5a4271b4-3c30-40f5-c505-33502665c860"
      },
      "execution_count": null,
      "outputs": [
        {
          "output_type": "stream",
          "name": "stdout",
          "text": [
            "[1 3]\n"
          ]
        }
      ]
    },
    {
      "cell_type": "markdown",
      "source": [
        "9. Print the maximum and minimum values of a."
      ],
      "metadata": {
        "id": "q5uREqwgPMPz"
      }
    },
    {
      "cell_type": "code",
      "source": [
        "max_value = np.max(a)\n",
        "min_value = np.min(a)\n",
        "\n",
        "print(\"Maximum value:\", max_value)\n",
        "print(\"Minimum value:\", min_value)"
      ],
      "metadata": {
        "id": "boAOEPupPrld",
        "colab": {
          "base_uri": "https://localhost:8080/"
        },
        "outputId": "e5d9f233-a781-4cfd-e892-54b3e7f530eb"
      },
      "execution_count": null,
      "outputs": [
        {
          "output_type": "stream",
          "name": "stdout",
          "text": [
            "Maximum value: 8\n",
            "Minimum value: 1\n"
          ]
        }
      ]
    },
    {
      "cell_type": "markdown",
      "source": [
        "10. Print row-wise maximum values and their indicies of a."
      ],
      "metadata": {
        "id": "9QElTp8gP8QW"
      }
    },
    {
      "cell_type": "code",
      "source": [
        "print(a)\n",
        "row_max_values = np.max(a, axis=1)\n",
        "row_max_indices = np.argmax(a, axis=1)\n",
        "\n",
        "for i in range(a.shape[0]):\n",
        "    print(f\"Row {i + 1}: Max Value = {row_max_values[i]}, Index = {row_max_indices[i]}\")\n"
      ],
      "metadata": {
        "id": "O5L3zh78QEf_",
        "colab": {
          "base_uri": "https://localhost:8080/"
        },
        "outputId": "a934e680-79f6-474e-e737-77f07185245d"
      },
      "execution_count": null,
      "outputs": [
        {
          "output_type": "stream",
          "name": "stdout",
          "text": [
            "[[1 2 3]\n",
            " [1 4 5]\n",
            " [8 4 2]]\n",
            "Row 1: Max Value = 3, Index = 2\n",
            "Row 2: Max Value = 5, Index = 2\n",
            "Row 3: Max Value = 8, Index = 0\n"
          ]
        }
      ]
    },
    {
      "cell_type": "markdown",
      "source": [
        "11. Divide all the elements of a by 4."
      ],
      "metadata": {
        "id": "0IE744FoQSWG"
      }
    },
    {
      "cell_type": "code",
      "source": [
        "a = a / 4\n",
        "print(a)"
      ],
      "metadata": {
        "id": "oPCET_aGRUZs",
        "colab": {
          "base_uri": "https://localhost:8080/"
        },
        "outputId": "20811004-ca09-41e3-ca1a-fbaf87d65b11"
      },
      "execution_count": null,
      "outputs": [
        {
          "output_type": "stream",
          "name": "stdout",
          "text": [
            "[[0.25 0.5  0.75]\n",
            " [0.25 1.   1.25]\n",
            " [2.   1.   0.5 ]]\n"
          ]
        }
      ]
    },
    {
      "cell_type": "markdown",
      "source": [
        "12. Sort a along the second axis."
      ],
      "metadata": {
        "id": "XJC4bsKqZGH5"
      }
    },
    {
      "cell_type": "code",
      "source": [
        "a = np.sort(a, axis=1)\n",
        "print(a)"
      ],
      "metadata": {
        "id": "KNvZ1--cZJqQ",
        "colab": {
          "base_uri": "https://localhost:8080/"
        },
        "outputId": "6380fd53-4d72-4b42-8f03-a9c0c6b97d5f"
      },
      "execution_count": null,
      "outputs": [
        {
          "output_type": "stream",
          "name": "stdout",
          "text": [
            "[[0.25 0.5  0.75]\n",
            " [0.25 1.   1.25]\n",
            " [0.5  1.   2.  ]]\n"
          ]
        }
      ]
    },
    {
      "cell_type": "markdown",
      "source": [
        "13. Print the indices that would sort a along the second axis."
      ],
      "metadata": {
        "id": "sJwxQ-DFZOab"
      }
    },
    {
      "cell_type": "code",
      "source": [
        "indices = np.argsort(a, axis=1)\n",
        "print(indices)"
      ],
      "metadata": {
        "id": "MunD903tZVD-",
        "colab": {
          "base_uri": "https://localhost:8080/"
        },
        "outputId": "c6b0f5d6-724b-4b7e-89c4-05afa96739e8"
      },
      "execution_count": null,
      "outputs": [
        {
          "output_type": "stream",
          "name": "stdout",
          "text": [
            "[[0 1 2]\n",
            " [0 1 2]\n",
            " [0 1 2]]\n"
          ]
        }
      ]
    },
    {
      "cell_type": "markdown",
      "source": [
        "14. Create an identity matrix of size 6x6."
      ],
      "metadata": {
        "id": "BoUOb-UORXum"
      }
    },
    {
      "cell_type": "code",
      "source": [
        "np.identity((6))"
      ],
      "metadata": {
        "id": "Pgt0H_6tRmMg",
        "colab": {
          "base_uri": "https://localhost:8080/"
        },
        "outputId": "860d0067-74cd-4f96-ecdd-53102de5d662"
      },
      "execution_count": null,
      "outputs": [
        {
          "output_type": "execute_result",
          "data": {
            "text/plain": [
              "array([[1., 0., 0., 0., 0., 0.],\n",
              "       [0., 1., 0., 0., 0., 0.],\n",
              "       [0., 0., 1., 0., 0., 0.],\n",
              "       [0., 0., 0., 1., 0., 0.],\n",
              "       [0., 0., 0., 0., 1., 0.],\n",
              "       [0., 0., 0., 0., 0., 1.]])"
            ]
          },
          "metadata": {},
          "execution_count": 32
        }
      ]
    },
    {
      "cell_type": "markdown",
      "source": [
        "15. Let b=[1,4,3,2,6,8,5,4,2,0], split b into 3 arrays each of 3,4,3 elements."
      ],
      "metadata": {
        "id": "4flSMoMVRrwm"
      }
    },
    {
      "cell_type": "code",
      "source": [
        "b = np.array([1, 4, 3, 2, 6, 8, 5, 4, 2, 0])\n",
        "arrays = np.split(b, [3, 7])\n",
        "\n",
        "print(arrays)\n"
      ],
      "metadata": {
        "id": "j2d8D-mfRWxI",
        "colab": {
          "base_uri": "https://localhost:8080/"
        },
        "outputId": "8eccbb9a-ffaa-4449-c978-2eced5380997"
      },
      "execution_count": null,
      "outputs": [
        {
          "output_type": "stream",
          "name": "stdout",
          "text": [
            "[array([1, 4, 3]), array([2, 6, 8, 5]), array([4, 2, 0])]\n"
          ]
        }
      ]
    },
    {
      "cell_type": "markdown",
      "source": [
        "16.Create a 1-D array of 40 evenly spaced elements between 0. and 1., inclusive."
      ],
      "metadata": {
        "id": "ZiDMu4HQzzh4"
      }
    },
    {
      "cell_type": "code",
      "source": [
        "array = np.linspace(0., 1., 40)\n",
        "\n",
        "print(array)"
      ],
      "metadata": {
        "id": "ZUqfFQAZzydo",
        "colab": {
          "base_uri": "https://localhost:8080/"
        },
        "outputId": "5c2d9e6d-544e-4a68-fc69-9a6cd122ba58"
      },
      "execution_count": null,
      "outputs": [
        {
          "output_type": "stream",
          "name": "stdout",
          "text": [
            "[0.         0.02564103 0.05128205 0.07692308 0.1025641  0.12820513\n",
            " 0.15384615 0.17948718 0.20512821 0.23076923 0.25641026 0.28205128\n",
            " 0.30769231 0.33333333 0.35897436 0.38461538 0.41025641 0.43589744\n",
            " 0.46153846 0.48717949 0.51282051 0.53846154 0.56410256 0.58974359\n",
            " 0.61538462 0.64102564 0.66666667 0.69230769 0.71794872 0.74358974\n",
            " 0.76923077 0.79487179 0.82051282 0.84615385 0.87179487 0.8974359\n",
            " 0.92307692 0.94871795 0.97435897 1.        ]\n"
          ]
        }
      ]
    },
    {
      "cell_type": "markdown",
      "source": [
        "17. Mutliply given arrays element-wise.\n",
        "\n",
        "a=[[4,7,2],[1,3,9]]\n",
        "\n",
        "b=[[1,5,0],[2,7,5]]"
      ],
      "metadata": {
        "id": "U4BSpQosnREt"
      }
    },
    {
      "cell_type": "code",
      "source": [
        "a = np.array([[4, 7, 2], [1, 3, 9]])\n",
        "b = np.array([[1, 5, 0], [2, 7, 5]])\n",
        "\n",
        "result = a * b\n",
        "\n",
        "print(result)"
      ],
      "metadata": {
        "id": "3cDb_yGInQBP",
        "colab": {
          "base_uri": "https://localhost:8080/"
        },
        "outputId": "663d19a3-4539-4538-ff47-b14f9c058cda"
      },
      "execution_count": null,
      "outputs": [
        {
          "output_type": "stream",
          "name": "stdout",
          "text": [
            "[[ 4 35  0]\n",
            " [ 2 21 45]]\n"
          ]
        }
      ]
    },
    {
      "cell_type": "markdown",
      "source": [
        "18. Create a 3x2 array with random values from 0 to 1."
      ],
      "metadata": {
        "id": "eTjRvsNmo1dm"
      }
    },
    {
      "cell_type": "code",
      "source": [
        "random_array = np.random.rand(3, 2)\n",
        "print(random_array)"
      ],
      "metadata": {
        "id": "9OaI6Vjd0_3Z",
        "colab": {
          "base_uri": "https://localhost:8080/"
        },
        "outputId": "50fd15fd-937a-44db-816c-5eafd98def16"
      },
      "execution_count": null,
      "outputs": [
        {
          "output_type": "stream",
          "name": "stdout",
          "text": [
            "[[0.30368496 0.98913316]\n",
            " [0.58724833 0.67533738]\n",
            " [0.90087435 0.937888  ]]\n"
          ]
        }
      ]
    },
    {
      "cell_type": "code",
      "source": [],
      "metadata": {
        "id": "ww5qqdTD8fC9"
      },
      "execution_count": null,
      "outputs": []
    }
  ]
}